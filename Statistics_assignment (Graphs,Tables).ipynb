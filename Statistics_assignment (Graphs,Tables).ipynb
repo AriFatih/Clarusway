{
 "cells": [
  {
   "cell_type": "code",
   "execution_count": 52,
   "metadata": {},
   "outputs": [
    {
     "data": {
      "text/html": [
       "<div>\n",
       "<style scoped>\n",
       "    .dataframe tbody tr th:only-of-type {\n",
       "        vertical-align: middle;\n",
       "    }\n",
       "\n",
       "    .dataframe tbody tr th {\n",
       "        vertical-align: top;\n",
       "    }\n",
       "\n",
       "    .dataframe thead th {\n",
       "        text-align: right;\n",
       "    }\n",
       "</style>\n",
       "<table border=\"1\" class=\"dataframe\">\n",
       "  <thead>\n",
       "    <tr style=\"text-align: right;\">\n",
       "      <th>col_0</th>\n",
       "      <th>Frequency</th>\n",
       "      <th>Relative_Frequency</th>\n",
       "      <th>Cumulative_Frequency</th>\n",
       "    </tr>\n",
       "    <tr>\n",
       "      <th>time_on_campus</th>\n",
       "      <th></th>\n",
       "      <th></th>\n",
       "      <th></th>\n",
       "    </tr>\n",
       "  </thead>\n",
       "  <tbody>\n",
       "    <tr>\n",
       "      <th>55</th>\n",
       "      <td>1</td>\n",
       "      <td>0.1</td>\n",
       "      <td>0.1</td>\n",
       "    </tr>\n",
       "    <tr>\n",
       "      <th>60</th>\n",
       "      <td>1</td>\n",
       "      <td>0.1</td>\n",
       "      <td>0.2</td>\n",
       "    </tr>\n",
       "    <tr>\n",
       "      <th>65</th>\n",
       "      <td>1</td>\n",
       "      <td>0.1</td>\n",
       "      <td>0.3</td>\n",
       "    </tr>\n",
       "    <tr>\n",
       "      <th>70</th>\n",
       "      <td>2</td>\n",
       "      <td>0.2</td>\n",
       "      <td>0.5</td>\n",
       "    </tr>\n",
       "    <tr>\n",
       "      <th>80</th>\n",
       "      <td>1</td>\n",
       "      <td>0.1</td>\n",
       "      <td>0.6</td>\n",
       "    </tr>\n",
       "    <tr>\n",
       "      <th>85</th>\n",
       "      <td>2</td>\n",
       "      <td>0.2</td>\n",
       "      <td>0.8</td>\n",
       "    </tr>\n",
       "    <tr>\n",
       "      <th>90</th>\n",
       "      <td>1</td>\n",
       "      <td>0.1</td>\n",
       "      <td>0.9</td>\n",
       "    </tr>\n",
       "    <tr>\n",
       "      <th>95</th>\n",
       "      <td>1</td>\n",
       "      <td>0.1</td>\n",
       "      <td>1.0</td>\n",
       "    </tr>\n",
       "  </tbody>\n",
       "</table>\n",
       "</div>"
      ],
      "text/plain": [
       "col_0           Frequency  Relative_Frequency  Cumulative_Frequency\n",
       "time_on_campus                                                     \n",
       "55                      1                 0.1                   0.1\n",
       "60                      1                 0.1                   0.2\n",
       "65                      1                 0.1                   0.3\n",
       "70                      2                 0.2                   0.5\n",
       "80                      1                 0.1                   0.6\n",
       "85                      2                 0.2                   0.8\n",
       "90                      1                 0.1                   0.9\n",
       "95                      1                 0.1                   1.0"
      ]
     },
     "execution_count": 52,
     "metadata": {},
     "output_type": "execute_result"
    }
   ],
   "source": [
    "import pandas as pd\n",
    "import numpy as np\n",
    "import matplotlib.pyplot as plt\n",
    "from matplotlib.pyplot import hist\n",
    "import seaborn as sns\n",
    "from scipy import stats\n",
    "\n",
    "#Using the data above, construct a frequency table for the variable Time on Campus. \n",
    "#Be sure to include value labels, frequencies, relative frequencies, and cumulative frequencies.\n",
    "\n",
    "# Inserting the data as df\n",
    "\n",
    "\n",
    "data = {'respondent' : [1,2,3,4,5,6,7,8,9,10],\n",
    "'sex' : ['Female', 'Female', 'Male', 'Male', 'Male', 'Female', 'Male', 'Male', 'Female', 'Male'],\n",
    "'class_standing' : ['Freshman', 'Junior', 'Junior', 'Freshman', 'Sophomore', 'Senior', 'Junior', 'Senior', 'Junior', 'Sophomore'],\n",
    "'time_on_campus' : [95, 80, 60, 85, 90, 55, 70, 65, 85, 70]}\n",
    "\n",
    "df = pd.DataFrame (data)\n",
    "df2 =df.set_index('respondent')\n",
    "#freq_time_on_campus = df2['time_on_campus'].value_counts().sort_index()\n",
    "#freq_time_on_campus\n",
    "\n",
    "df3 = pd.crosstab(index=df2['time_on_campus'], columns='Frequency')\n",
    "df3['Relative_Frequency'] = df3['Frequency']/ (df3['Frequency'].sum())\n",
    "df3['Cumulative_Frequency'] =  df3['Relative_Frequency'].cumsum()\n",
    "df3"
   ]
  },
  {
   "cell_type": "code",
   "execution_count": 42,
   "metadata": {},
   "outputs": [
    {
     "data": {
      "image/png": "[encoded data removed]",
      "text/plain": [
       "<Figure size 432x288 with 1 Axes>"
      ]
     },
     "metadata": {
      "needs_background": "light"
     },
     "output_type": "display_data"
    }
   ],
   "source": [
    "#The number of passengers of an airline company by years is given in the table below. Create a bar chart based on these data.\n",
    "\n",
    "# initialize list of lists\n",
    "data = [[2010, 5], [2012, 7], [2013, 13], [2014, 10], [2015, 20], [2016, 22], [2017, 17], [2018, 16.5], [2019, 27]]\n",
    " \n",
    "# Create the pandas DataFrame\n",
    "df = pd.DataFrame(data, columns = ['Years', '# of passengers x1000'])\n",
    "\n",
    "df\n",
    "df.sort_values('Years').plot(kind='bar', x='Years', y='# of passengers x1000')\n",
    "plt.tight_layout()\n"
   ]
  },
  {
   "cell_type": "code",
   "execution_count": 65,
   "metadata": {},
   "outputs": [
    {
     "data": {
      "text/plain": [
       "(array([ 2.,  3.,  5.,  8.,  8., 10.]),\n",
       " array([0.        , 0.83333333, 1.66666667, 2.5       , 3.33333333,\n",
       "        4.16666667, 5.        ]),\n",
       " <BarContainer object of 6 artists>)"
      ]
     },
     "execution_count": 65,
     "metadata": {},
     "output_type": "execute_result"
    },
    {
     "data": {
      "image/png": "[encoded data removed]",
      "text/plain": [
       "<Figure size 432x288 with 1 Axes>"
      ]
     },
     "metadata": {
      "needs_background": "light"
     },
     "output_type": "display_data"
    }
   ],
   "source": [
    "#EXERCISE 3. Create a frequency histogram from the data in the table below. \n",
    "#What you can conclude about the shape of the distribution?\n",
    "\n",
    "# initialize list of lists\n",
    "data = [['16-22', 2], ['23-29', 3], ['30-36', 5], ['37-43', 8], ['44-50', 8], ['51-57', 10]]\n",
    "data1 =  ['16-22','23-29','30-36','37-43','44-50','51-57']\n",
    "data2 = [2,3,5,8,8,10]\n",
    " \n",
    "# Create the pandas DataFrame\n",
    "df = pd.DataFrame(data, columns = ['Income_x1000', 'Number_of_families'])\n",
    "#df\n",
    "\n",
    "hist(data1, weights=data2, bins = 6)\n",
    "\n"
   ]
  },
  {
   "cell_type": "code",
   "execution_count": null,
   "metadata": {},
   "outputs": [],
   "source": [
    "Seaborn datasets\n",
    "titanic dataset"
   ]
  }
 ],
 "metadata": {
  "kernelspec": {
   "display_name": "Python 3",
   "language": "python",
   "name": "python3"
  },
  "language_info": {
   "codemirror_mode": {
    "name": "ipython",
    "version": 3
   },
   "file_extension": ".py",
   "mimetype": "text/x-python",
   "name": "python",
   "nbconvert_exporter": "python",
   "pygments_lexer": "ipython3",
   "version": "3.8.5"
  }
 },
 "nbformat": 4,
 "nbformat_minor": 4
}
